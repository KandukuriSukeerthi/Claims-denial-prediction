{
 "cells": [
  {
   "cell_type": "code",
   "execution_count": 1,
   "id": "c1f1dd2e-467c-42df-8747-a3c2f8eaf575",
   "metadata": {},
   "outputs": [
    {
     "name": "stdout",
     "output_type": "stream",
     "text": [
      "Dataset saved as Service_Submission_Processed_Dates.csv\n"
     ]
    }
   ],
   "source": [
    "import pandas as pd\n",
    "import numpy as np\n",
    "\n",
    "# Generate 50,000 rows of data\n",
    "n_rows = 50000\n",
    "\n",
    "# Generate random service dates\n",
    "service_dates = pd.to_datetime(np.random.choice(\n",
    "    pd.date_range(start=\"2022-01-01\", end=\"2024-11-30\").date,\n",
    "    size=n_rows\n",
    "))\n",
    "\n",
    "# Generate submission dates after service dates\n",
    "submission_delays = np.random.randint(1, 30, size=n_rows)  # Delay between 1 and 30 days\n",
    "submission_dates = service_dates + pd.to_timedelta(submission_delays, unit=\"d\")\n",
    "\n",
    "# Ensure submission dates stay within range\n",
    "submission_dates = pd.Series(submission_dates).apply(\n",
    "    lambda x: min(x, pd.Timestamp(\"2024-12-20\"))\n",
    ")\n",
    "\n",
    "# Generate processed dates after submission dates\n",
    "processing_delays = np.random.randint(1, 30, size=n_rows)  # Delay between 1 and 30 days\n",
    "processed_dates = submission_dates + pd.to_timedelta(processing_delays, unit=\"d\")\n",
    "\n",
    "# Ensure processed dates stay within range\n",
    "processed_dates = pd.Series(processed_dates).apply(\n",
    "    lambda x: min(x, pd.Timestamp(\"2024-12-31\"))\n",
    ")\n",
    "\n",
    "# Create the DataFrame\n",
    "dates_df = pd.DataFrame({\n",
    "    \"ServiceDate\": service_dates,\n",
    "    \"SubmissionDate\": submission_dates,\n",
    "    \"ProcessedDate\": processed_dates\n",
    "})\n",
    "\n",
    "# Save to CSV\n",
    "dates_df.to_csv(\"Service_Submission_Processed_Dates.csv\", index=False)\n",
    "print(\"Dataset saved as Service_Submission_Processed_Dates.csv\")\n"
   ]
  },
  {
   "cell_type": "code",
   "execution_count": 2,
   "id": "e85189cb-11a2-452a-aec7-c05fcf45572c",
   "metadata": {},
   "outputs": [],
   "source": [
    "claims_df=pd.read_csv(\"C:/Users/kandu/Documents/Data Analysis Projects/Claims Denial Prediction/data/raw_new/claims.csv\")"
   ]
  },
  {
   "cell_type": "code",
   "execution_count": 3,
   "id": "bba822af-4533-4ff7-bff9-d4ef45b32078",
   "metadata": {},
   "outputs": [
    {
     "name": "stdout",
     "output_type": "stream",
     "text": [
      "    MonthID  TotalRevenue  ClaimsProcessed  PatientsServed\n",
      "0   2022-01     777478.64              240             239\n",
      "1   2022-02    3840660.15             1097            1045\n",
      "2   2022-03    4812872.62             1471            1361\n",
      "3   2022-04    5000918.17             1485            1371\n",
      "4   2022-05    5278201.83             1556            1444\n",
      "5   2022-06    4416068.10             1330            1247\n",
      "6   2022-07    4734093.82             1386            1286\n",
      "7   2022-08    5269374.17             1502            1388\n",
      "8   2022-09    4889762.17             1417            1335\n",
      "9   2022-10    4842180.43             1409            1320\n",
      "10  2022-11    4971925.30             1421            1341\n",
      "11  2022-12    4883078.49             1411            1305\n",
      "12  2023-01    5191809.25             1512            1410\n",
      "13  2023-02    4463510.68             1302            1220\n",
      "14  2023-03    4920492.15             1431            1341\n",
      "15  2023-04    4782512.08             1429            1331\n",
      "16  2023-05    5131675.65             1475            1364\n",
      "17  2023-06    5086876.23             1467            1356\n",
      "18  2023-07    4949369.29             1449            1355\n",
      "19  2023-08    4832623.16             1452            1351\n",
      "20  2023-09    4710705.98             1331            1251\n",
      "21  2023-10    5001692.67             1500            1391\n",
      "22  2023-11    4829664.75             1399            1314\n",
      "23  2023-12    5185135.26             1469            1363\n",
      "24  2024-01    4845199.56             1430            1313\n",
      "25  2024-02    4661667.93             1350            1271\n",
      "26  2024-03    4858874.61             1464            1362\n",
      "27  2024-04    4785278.28             1446            1353\n",
      "28  2024-05    4933722.21             1419            1325\n",
      "29  2024-06    4695313.32             1402            1312\n",
      "30  2024-07    4739367.94             1417            1314\n",
      "31  2024-08    5321473.68             1505            1380\n",
      "32  2024-09    4891455.47             1389            1287\n",
      "33  2024-10    5008626.44             1458            1357\n",
      "34  2024-11    4768845.44             1394            1313\n",
      "35  2024-12    4770600.01             1385            1304\n"
     ]
    }
   ],
   "source": [
    "import pandas as pd\n",
    "\n",
    "# Assuming claims_df is the DataFrame containing the claims table data\n",
    "# Ensure ProcessedDate is a datetime object\n",
    "claims_df[\"ProcessedDate\"] = pd.to_datetime(claims_df[\"ProcessedDate\"])\n",
    "\n",
    "# Extract the month in \"yyyy-mm\" format\n",
    "claims_df[\"MonthID\"] = claims_df[\"ProcessedDate\"].dt.to_period(\"M\").astype(str)\n",
    "\n",
    "# Aggregate data to create the revenue table\n",
    "revenue_table = claims_df.groupby(\"MonthID\").agg(\n",
    "    TotalRevenue=pd.NamedAgg(column=\"Reimbursement\", aggfunc=\"sum\"),\n",
    "    ClaimsProcessed=pd.NamedAgg(column=\"ClaimID\", aggfunc=\"count\"),\n",
    "    PatientsServed=pd.NamedAgg(column=\"PatientID\", aggfunc=\"nunique\")\n",
    ").reset_index()\n",
    "\n",
    "# Display the first few rows of the revenue table\n",
    "print(revenue_table)\n",
    "\n",
    "# Save to CSV if needed\n",
    "revenue_table.to_csv(\"Revenue_Table.csv\", index=False)\n"
   ]
  },
  {
   "cell_type": "code",
   "execution_count": 6,
   "id": "ca465b32-8ec2-43b6-b963-51977c204e82",
   "metadata": {},
   "outputs": [],
   "source": [
    "import pandas as pd\n",
    "import random\n",
    "\n",
    "def random_choice(options, probs):\n",
    "    return random.choices(options, probs, k=1)[0]\n",
    "\n",
    "claims_df2 = pd.DataFrame({\n",
    "    \"Denied_Status\": [random_choice([\"Yes\",\"No\"],[0.25,0.75]) for _ in range(50000)]\n",
    "})"
   ]
  },
  {
   "cell_type": "code",
   "execution_count": 9,
   "id": "32d4424b-1c2c-4861-aa2b-abb5788c4289",
   "metadata": {},
   "outputs": [],
   "source": [
    "claims_df2.to_csv(\"Claim_Denials.csv\",index=False,header=True)"
   ]
  },
  {
   "cell_type": "code",
   "execution_count": 11,
   "id": "41b807f4-c3d5-415b-9e1d-214c62aeb8eb",
   "metadata": {},
   "outputs": [
    {
     "name": "stdout",
     "output_type": "stream",
     "text": [
      "   ClaimAmount  Reimbursement DenialStatus\n",
      "0      3807.95         962.26           No\n",
      "1      9512.07        7864.08           No\n",
      "2      7346.74           0.00          Yes\n",
      "3      6026.72        5545.49           No\n",
      "4      1644.58         282.53           No\n",
      "Dataset saved as 'claims_dataset.csv'\n"
     ]
    }
   ],
   "source": [
    "import numpy as np\n",
    "import pandas as pd\n",
    "\n",
    "# Set random seed for reproducibility\n",
    "np.random.seed(42)\n",
    "\n",
    "# Parameters for the dataset\n",
    "num_claims = 50000\n",
    "denial_ratio = 0.25\n",
    "approval_ratio = 0.75\n",
    "\n",
    "# Calculate number of denied and approved claims\n",
    "num_denied = int(num_claims * denial_ratio)\n",
    "num_approved = num_claims - num_denied\n",
    "\n",
    "# Generate Claim Amounts in range $100 - $10000\n",
    "claim_amounts = np.random.uniform(100, 10000, num_claims).round(2)\n",
    "\n",
    "# Generate Denial Status\n",
    "# 1 for Denied (Yes), 0 for Approved (No)\n",
    "denial_status = np.array([1] * num_denied + [0] * num_approved)\n",
    "np.random.shuffle(denial_status)\n",
    "\n",
    "# Generate Reimbursement Amounts\n",
    "reimbursement = []\n",
    "for claim, denied in zip(claim_amounts, denial_status):\n",
    "    if denied == 1:\n",
    "        reimbursement.append(0)  # Denied claims have $0 reimbursement\n",
    "    else:\n",
    "        reimbursement.append(round(np.random.uniform(100, claim), 2))  # Approved claims have reimbursement < claim amount\n",
    "\n",
    "# Create the DataFrame\n",
    "data = {\n",
    "    \"ClaimAmount\": claim_amounts,\n",
    "    \"Reimbursement\": reimbursement,\n",
    "    \"DenialStatus\": [\"Yes\" if d == 1 else \"No\" for d in denial_status]\n",
    "}\n",
    "claims_df = pd.DataFrame(data)\n",
    "\n",
    "# Display the first few rows\n",
    "print(claims_df.head())\n",
    "\n",
    "# Save to a CSV file\n",
    "claims_df.to_csv(\"claims1_dataset.csv\", index=False)\n",
    "print(\"Dataset saved as 'claims_dataset.csv'\")\n"
   ]
  },
  {
   "cell_type": "code",
   "execution_count": null,
   "id": "89ec541b-dc98-4271-85de-b08b23c776b3",
   "metadata": {},
   "outputs": [],
   "source": []
  }
 ],
 "metadata": {
  "kernelspec": {
   "display_name": "Python 3 (ipykernel)",
   "language": "python",
   "name": "python3"
  },
  "language_info": {
   "codemirror_mode": {
    "name": "ipython",
    "version": 3
   },
   "file_extension": ".py",
   "mimetype": "text/x-python",
   "name": "python",
   "nbconvert_exporter": "python",
   "pygments_lexer": "ipython3",
   "version": "3.11.9"
  }
 },
 "nbformat": 4,
 "nbformat_minor": 5
}
