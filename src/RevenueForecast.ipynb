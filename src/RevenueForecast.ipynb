{
 "cells": [
  {
   "cell_type": "code",
   "execution_count": 1,
   "id": "749637e4-ac24-4b64-8b06-f5f7ab519190",
   "metadata": {},
   "outputs": [],
   "source": [
    "import pandas as pd\n",
    "import numpy as np\n",
    "import matplotlib.pyplot as plt\n",
    "import seaborn as sns"
   ]
  },
  {
   "cell_type": "code",
   "execution_count": 2,
   "id": "bb8784d8-2eaa-4bd1-973d-57b76ebfd04c",
   "metadata": {},
   "outputs": [],
   "source": [
    "orig_patients_df = pd.read_csv(\"C:/Users/kandu/Documents/Data Analysis Projects/Claims Denial Prediction/data/raw/patients.csv\")\n",
    "orig_claims_df = pd.read_csv(\"C:/Users/kandu/Documents/Data Analysis Projects/Claims Denial Prediction/data/raw/claims.csv\")\n",
    "orig_payers_df = pd.read_csv(\"C:/Users/kandu/Documents/Data Analysis Projects/Claims Denial Prediction/data/raw/payers.csv\")\n",
    "orig_providers_df = pd.read_csv(\"C:/Users/kandu/Documents/Data Analysis Projects/Claims Denial Prediction/data/raw/providers.csv\")\n",
    "orig_revenue_df = pd.read_csv(\"C:/Users/kandu/Documents/Data Analysis Projects/Claims Denial Prediction/data/raw/revenue.csv\")\n",
    "orig_externalfact_df = pd.read_csv(\"C:/Users/kandu/Documents/Data Analysis Projects/Claims Denial Prediction/data/raw/external_factors.csv\")"
   ]
  },
  {
   "cell_type": "code",
   "execution_count": 3,
   "id": "655bb9bc-640b-4dbd-9db7-d36d683b9979",
   "metadata": {},
   "outputs": [
    {
     "name": "stdout",
     "output_type": "stream",
     "text": [
      "<class 'pandas.core.frame.DataFrame'>\n",
      "RangeIndex: 10000 entries, 0 to 9999\n",
      "Data columns (total 6 columns):\n",
      " #   Column         Non-Null Count  Dtype \n",
      "---  ------         --------------  ----- \n",
      " 0   PatientID      10000 non-null  object\n",
      " 1   Age            10000 non-null  int64 \n",
      " 2   Gender         10000 non-null  object\n",
      " 3   City           10000 non-null  object\n",
      " 4   State          10000 non-null  object\n",
      " 5   InsuranceType  10000 non-null  object\n",
      "dtypes: int64(1), object(5)\n",
      "memory usage: 468.9+ KB\n",
      "None\n",
      "<class 'pandas.core.frame.DataFrame'>\n",
      "RangeIndex: 50000 entries, 0 to 49999\n",
      "Data columns (total 10 columns):\n",
      " #   Column          Non-Null Count  Dtype  \n",
      "---  ------          --------------  -----  \n",
      " 0   ClaimID         50000 non-null  object \n",
      " 1   PatientID       50000 non-null  object \n",
      " 2   PayerID         50000 non-null  object \n",
      " 3   ProviderID      50000 non-null  object \n",
      " 4   ClaimAmount     50000 non-null  float64\n",
      " 5   Reimbursement   50000 non-null  float64\n",
      " 6   DenialStatus    50000 non-null  object \n",
      " 7   ServiceDate     50000 non-null  object \n",
      " 8   SubmissionDate  50000 non-null  object \n",
      " 9   ProcessedDate   50000 non-null  object \n",
      "dtypes: float64(2), object(8)\n",
      "memory usage: 3.8+ MB\n",
      "None\n",
      "<class 'pandas.core.frame.DataFrame'>\n",
      "RangeIndex: 50 entries, 0 to 49\n",
      "Data columns (total 4 columns):\n",
      " #   Column             Non-Null Count  Dtype  \n",
      "---  ------             --------------  -----  \n",
      " 0   PayerID            50 non-null     object \n",
      " 1   PayerName          50 non-null     object \n",
      " 2   PayerCategory      50 non-null     object \n",
      " 3   ReimbursementRate  50 non-null     float64\n",
      "dtypes: float64(1), object(3)\n",
      "memory usage: 1.7+ KB\n",
      "None\n",
      "<class 'pandas.core.frame.DataFrame'>\n",
      "RangeIndex: 500 entries, 0 to 499\n",
      "Data columns (total 5 columns):\n",
      " #   Column        Non-Null Count  Dtype \n",
      "---  ------        --------------  ----- \n",
      " 0   ProviderID    500 non-null    object\n",
      " 1   ProviderName  500 non-null    object\n",
      " 2   Specialty     500 non-null    object\n",
      " 3   City          500 non-null    object\n",
      " 4   State         500 non-null    object\n",
      "dtypes: object(5)\n",
      "memory usage: 19.7+ KB\n",
      "None\n",
      "<class 'pandas.core.frame.DataFrame'>\n",
      "RangeIndex: 36 entries, 0 to 35\n",
      "Data columns (total 4 columns):\n",
      " #   Column           Non-Null Count  Dtype  \n",
      "---  ------           --------------  -----  \n",
      " 0   MonthID          36 non-null     object \n",
      " 1   TotalRevenue     36 non-null     float64\n",
      " 2   ClaimsProcessed  36 non-null     int64  \n",
      " 3   PatientsServed   36 non-null     int64  \n",
      "dtypes: float64(1), int64(2), object(1)\n",
      "memory usage: 1.3+ KB\n",
      "None\n",
      "<class 'pandas.core.frame.DataFrame'>\n",
      "RangeIndex: 36 entries, 0 to 35\n",
      "Data columns (total 4 columns):\n",
      " #   Column         Non-Null Count  Dtype  \n",
      "---  ------         --------------  -----  \n",
      " 0   MonthID        36 non-null     object \n",
      " 1   InflationRate  36 non-null     float64\n",
      " 2   PublicEvents   11 non-null     object \n",
      " 3   PolicyChanges  5 non-null      object \n",
      "dtypes: float64(1), object(3)\n",
      "memory usage: 1.3+ KB\n",
      "None\n"
     ]
    }
   ],
   "source": [
    "print(orig_patients_df.info())\n",
    "print(orig_claims_df.info())\n",
    "print(orig_payers_df.info())\n",
    "print(orig_providers_df.info())\n",
    "print(orig_revenue_df.info())\n",
    "print(orig_externalfact_df.info())"
   ]
  },
  {
   "cell_type": "code",
   "execution_count": 4,
   "id": "d10b23bd-def6-45da-a502-edbc532d7117",
   "metadata": {},
   "outputs": [
    {
     "name": "stdout",
     "output_type": "stream",
     "text": [
      "                Age\n",
      "count  10000.000000\n",
      "mean      53.418300\n",
      "std       20.795893\n",
      "min       18.000000\n",
      "25%       35.000000\n",
      "50%       53.000000\n",
      "75%       71.000000\n",
      "max       89.000000\n",
      "        ClaimAmount  Reimbursement\n",
      "count  50000.000000   50000.000000\n",
      "mean    5088.861337    1943.359486\n",
      "std     2826.382597    2203.874252\n",
      "min      200.050000       0.000000\n",
      "25%     2639.312500      75.045000\n",
      "50%     5089.140000    1105.595000\n",
      "75%     7533.352500    3130.195000\n",
      "max     9999.730000    9926.060000\n",
      "       ReimbursementRate\n",
      "count          50.000000\n",
      "mean            0.749800\n",
      "std             0.148825\n",
      "min             0.510000\n",
      "25%             0.632500\n",
      "50%             0.720000\n",
      "75%             0.870000\n",
      "max             1.000000\n",
      "       TotalRevenue  ClaimsProcessed  PatientsServed\n",
      "count  3.600000e+01        36.000000       36.000000\n",
      "mean   4.752308e+06      1388.888889     1295.000000\n",
      "std    7.326048e+05       211.776672      192.791671\n",
      "min    7.774786e+05       240.000000      239.000000\n",
      "25%    4.761476e+06      1392.750000     1304.750000\n",
      "50%    4.852037e+06      1425.000000     1333.000000\n",
      "75%    5.001112e+06      1467.500000     1361.250000\n",
      "max    5.321474e+06      1556.000000     1444.000000\n",
      "       InflationRate\n",
      "count      36.000000\n",
      "mean        0.030000\n",
      "std         0.012275\n",
      "min         0.010000\n",
      "25%         0.019750\n",
      "50%         0.031000\n",
      "75%         0.040250\n",
      "max         0.048000\n"
     ]
    }
   ],
   "source": [
    "print(orig_patients_df.describe())\n",
    "print(orig_claims_df.describe())\n",
    "print(orig_payers_df.describe())\n",
    "print(orig_revenue_df.describe())\n",
    "print(orig_externalfact_df.describe())"
   ]
  },
  {
   "cell_type": "code",
   "execution_count": 5,
   "id": "0093ce43-aa60-41aa-9733-68cdb3599f48",
   "metadata": {},
   "outputs": [
    {
     "name": "stdout",
     "output_type": "stream",
     "text": [
      "  PatientID  Age  Gender          City State InsuranceType\n",
      "0    P00001   72    Male    Chavezfurt    SC    Government\n",
      "1    P00002   53  Female   Hollandview    MN       Private\n",
      "2    P00003   54  Female  Port Lindsey    NM    Government\n",
      "3    P00004   31  Female   Travismouth    IN       Private\n",
      "4    P00005   44    Male  Barrychester    KS    Government\n",
      "   ClaimID PatientID PayerID ProviderID  ClaimAmount  Reimbursement  \\\n",
      "0  C000001    P02949   PY039     PR0388      3870.49        1052.79   \n",
      "1  C000002    P03936   PY038     PR0253      9517.00        7885.48   \n",
      "2  C000003    P06831   PY033     PR0244      7373.54           0.00   \n",
      "3  C000004    P03710   PY042     PR0038      6066.85        5590.40   \n",
      "4  C000005    P01290   PY023     PR0014      1728.98         379.85   \n",
      "\n",
      "  DenialStatus ServiceDate SubmissionDate ProcessedDate  \n",
      "0           No    9/3/2022      10/1/2022     10/8/2022  \n",
      "1           No   12/6/2022     12/15/2022    12/22/2022  \n",
      "2          Yes   11/5/2023      11/8/2023    11/22/2023  \n",
      "3           No   10/9/2022     10/11/2022     11/7/2022  \n",
      "4           No  10/25/2022     11/16/2022     12/3/2022  \n",
      "  PayerID                  PayerName PayerCategory  ReimbursementRate\n",
      "0   PY001      Boyd, Garcia and Ward       Private               0.64\n",
      "1   PY002  Rojas, Richards and Brown       Private               0.58\n",
      "2   PY003              Salazar Group    Government               0.59\n",
      "3   PY004             Williams Group       Private               0.52\n",
      "4   PY005                  Curry LLC       Private               0.93\n",
      "  ProviderID       ProviderName         Specialty             City State\n",
      "0     PR0001         Grant Wood        Pediatrics     Brittanyland    LA\n",
      "1     PR0002   Christian Morton       Orthopedics  Port Scotthaven    KY\n",
      "2     PR0003  Michele Rodriguez  General Medicine       Zacharyton    SC\n",
      "3     PR0004      Tammy Kennedy  General Medicine     Bryanchester    OH\n",
      "4     PR0005       Kelly Jordan         Neurology         New John    AZ\n",
      "   MonthID  TotalRevenue  ClaimsProcessed  PatientsServed\n",
      "0  2022-01     777478.64              240             239\n",
      "1  2022-02    3840660.15             1097            1045\n",
      "2  2022-03    4812872.62             1471            1361\n",
      "3  2022-04    5000918.17             1485            1371\n",
      "4  2022-05    5278201.83             1556            1444\n",
      "   MonthID  InflationRate      PublicEvents     PolicyChanges\n",
      "0  2022-01          0.032  Natural Disaster               NaN\n",
      "1  2022-02          0.025  Natural Disaster               NaN\n",
      "2  2022-03          0.033          Pandemic               NaN\n",
      "3  2022-04          0.048               NaN  Insurance Reform\n",
      "4  2022-05          0.019               NaN               NaN\n"
     ]
    }
   ],
   "source": [
    "print(orig_patients_df.head())\n",
    "print(orig_claims_df.head())\n",
    "print(orig_payers_df.head())\n",
    "print(orig_providers_df.head())\n",
    "print(orig_revenue_df.head())\n",
    "print(orig_externalfact_df.head())"
   ]
  },
  {
   "cell_type": "code",
   "execution_count": 6,
   "id": "64784dc2-0bb8-4b92-b9cb-404b8ffae928",
   "metadata": {},
   "outputs": [],
   "source": [
    "patients_df = orig_patients_df.copy()\n",
    "claims_df = orig_claims_df.copy()\n",
    "payers_df = orig_payers_df.copy()\n",
    "providers_df = orig_providers_df.copy()\n",
    "revenue_df = orig_revenue_df.copy()\n",
    "externalfact_df = orig_externalfact_df.copy()"
   ]
  },
  {
   "cell_type": "code",
   "execution_count": 7,
   "id": "120e02f7-8c50-464e-b8e8-eca30bc74feb",
   "metadata": {},
   "outputs": [],
   "source": [
    "#Convert to datetime\n",
    "claims_df['ServiceDate'] = pd.to_datetime(claims_df['ServiceDate'])\n",
    "claims_df['SubmissionDate'] = pd.to_datetime(claims_df['SubmissionDate'])\n",
    "claims_df['ProcessedDate'] = pd.to_datetime(claims_df['ProcessedDate'])"
   ]
  },
  {
   "cell_type": "code",
   "execution_count": 8,
   "id": "d88dfe98-888f-4e08-8a0b-184003e5c490",
   "metadata": {},
   "outputs": [],
   "source": [
    "# Convert to datetime\n",
    "revenue_df['MonthID'] = pd.to_datetime(revenue_df['MonthID'], format='%Y-%m')\n",
    "externalfact_df['MonthID'] = pd.to_datetime(externalfact_df['MonthID'], format='%Y-%m')\n",
    "\n",
    "# Convert to Period (Year-Month)\n",
    "revenue_df['MonthID'] = revenue_df['MonthID'].dt.to_period('M')\n",
    "externalfact_df['MonthID'] = externalfact_df['MonthID'].dt.to_period('M')"
   ]
  },
  {
   "cell_type": "code",
   "execution_count": 9,
   "id": "624a1bcb-6797-45e4-b363-6a2ddf65c4c7",
   "metadata": {},
   "outputs": [
    {
     "name": "stdout",
     "output_type": "stream",
     "text": [
      "   MonthID  TotalRevenue  ClaimsProcessed  PatientsServed\n",
      "0  2022-01     777478.64              240             239\n",
      "1  2022-02    3840660.15             1097            1045\n",
      "2  2022-03    4812872.62             1471            1361\n",
      "3  2022-04    5000918.17             1485            1371\n",
      "4  2022-05    5278201.83             1556            1444\n"
     ]
    }
   ],
   "source": [
    "print(revenue_df.head())"
   ]
  },
  {
   "cell_type": "code",
   "execution_count": 10,
   "id": "83b7e914-6332-493d-9a86-bdd43e93090d",
   "metadata": {},
   "outputs": [
    {
     "name": "stdout",
     "output_type": "stream",
     "text": [
      "PatientID        0\n",
      "Age              0\n",
      "Gender           0\n",
      "City             0\n",
      "State            0\n",
      "InsuranceType    0\n",
      "dtype: int64\n",
      "ClaimID           0\n",
      "PatientID         0\n",
      "PayerID           0\n",
      "ProviderID        0\n",
      "ClaimAmount       0\n",
      "Reimbursement     0\n",
      "DenialStatus      0\n",
      "ServiceDate       0\n",
      "SubmissionDate    0\n",
      "ProcessedDate     0\n",
      "dtype: int64\n",
      "PayerID              0\n",
      "PayerName            0\n",
      "PayerCategory        0\n",
      "ReimbursementRate    0\n",
      "dtype: int64\n",
      "ProviderID      0\n",
      "ProviderName    0\n",
      "Specialty       0\n",
      "City            0\n",
      "State           0\n",
      "dtype: int64\n",
      "MonthID            0\n",
      "TotalRevenue       0\n",
      "ClaimsProcessed    0\n",
      "PatientsServed     0\n",
      "dtype: int64\n",
      "MonthID           0\n",
      "InflationRate     0\n",
      "PublicEvents     25\n",
      "PolicyChanges    31\n",
      "dtype: int64\n"
     ]
    }
   ],
   "source": [
    "#Handling missing values\n",
    "print(patients_df.isnull().sum())\n",
    "print(claims_df.isnull().sum())\n",
    "print(payers_df.isnull().sum())\n",
    "print(providers_df.isnull().sum())\n",
    "print(revenue_df.isnull().sum())\n",
    "print(externalfact_df.isnull().sum())"
   ]
  },
  {
   "cell_type": "code",
   "execution_count": 11,
   "id": "482932ec-37ff-400b-8485-00f31ebf4d5e",
   "metadata": {},
   "outputs": [],
   "source": [
    "#Filling null values \n",
    "externalfact_df['PublicEvents'] = externalfact_df['PublicEvents'].fillna(\"No Events\")\n",
    "externalfact_df['PolicyChanges'] = externalfact_df['PolicyChanges'].fillna(\"No Changes\")"
   ]
  },
  {
   "cell_type": "code",
   "execution_count": 12,
   "id": "a67b94ec-042f-4270-9c31-3a9b2852a177",
   "metadata": {},
   "outputs": [
    {
     "name": "stdout",
     "output_type": "stream",
     "text": [
      "0\n",
      "0\n",
      "0\n",
      "0\n",
      "0\n",
      "0\n"
     ]
    }
   ],
   "source": [
    "#Duplicate values\n",
    "print(patients_df.duplicated().sum())\n",
    "print(claims_df.duplicated().sum())\n",
    "print(payers_df.duplicated().sum())\n",
    "print(providers_df.duplicated().sum())\n",
    "print(revenue_df.duplicated().sum())\n",
    "print(externalfact_df.duplicated().sum())"
   ]
  },
  {
   "cell_type": "code",
   "execution_count": 13,
   "id": "a9abc271-6ce0-411b-a0ce-b9a48182951a",
   "metadata": {},
   "outputs": [],
   "source": [
    "#Data validation\n",
    "claims_df = claims_df[claims_df['PatientID'].isin(patients_df['PatientID'])]\n",
    "claims_df = claims_df[claims_df['PayerID'].isin(payers_df['PayerID'])]\n",
    "claims_df = claims_df[claims_df['ProviderID'].isin(providers_df['ProviderID'])]\n",
    "claims_df = claims_df[claims_df['ServiceDate']<claims_df['SubmissionDate']]\n",
    "claims_df = claims_df[claims_df['SubmissionDate']<claims_df['ProcessedDate']]\n",
    "claims_df = claims_df[claims_df['ClaimAmount']>=claims_df['Reimbursement']]"
   ]
  },
  {
   "cell_type": "code",
   "execution_count": 14,
   "id": "4813b95a-1bcc-46db-ba6f-8b3823eb37d0",
   "metadata": {},
   "outputs": [],
   "source": [
    "claims_yearly = claims_df.groupby(claims_df['ProcessedDate'].dt.year)['ClaimID'].count()\n",
    "revenueclaims_yearly = revenue_df.groupby(revenue_df['MonthID'].dt.year)['ClaimsProcessed'].sum()"
   ]
  },
  {
   "cell_type": "code",
   "execution_count": 15,
   "id": "1ee868f9-cdf6-48ac-a7c2-ca6c9a24b186",
   "metadata": {},
   "outputs": [
    {
     "name": "stdout",
     "output_type": "stream",
     "text": [
      "Claims table count: ProcessedDate\n",
      "2022    15725\n",
      "2023    17216\n",
      "2024    17059\n",
      "Name: ClaimID, dtype: int64\n",
      "Revenue table count: MonthID\n",
      "2022    15725\n",
      "2023    17216\n",
      "2024    17059\n",
      "Name: ClaimsProcessed, dtype: int64\n"
     ]
    }
   ],
   "source": [
    "#Claims validation across claims and revenue tables\n",
    "print(\"Claims table count:\",claims_yearly)\n",
    "print(\"Revenue table count:\",revenueclaims_yearly)"
   ]
  },
  {
   "cell_type": "code",
   "execution_count": 16,
   "id": "c90ebdd9-6cab-4d2a-8357-892b76b82df5",
   "metadata": {},
   "outputs": [
    {
     "data": {
      "image/png": "[encoded data removed]",
      "text/plain": [
       "<Figure size 640x480 with 1 Axes>"
      ]
     },
     "metadata": {},
     "output_type": "display_data"
    }
   ],
   "source": [
    "sns.boxplot(y='TotalRevenue',data=revenue_df)\n",
    "plt.ylabel(\"Total Revenue\")\n",
    "plt.show()"
   ]
  },
  {
   "cell_type": "code",
   "execution_count": null,
   "id": "3003b2b2-8980-44e9-b300-2ccf4a1d0e75",
   "metadata": {},
   "outputs": [],
   "source": []
  }
 ],
 "metadata": {
  "kernelspec": {
   "display_name": "Python 3 (ipykernel)",
   "language": "python",
   "name": "python3"
  },
  "language_info": {
   "codemirror_mode": {
    "name": "ipython",
    "version": 3
   },
   "file_extension": ".py",
   "mimetype": "text/x-python",
   "name": "python",
   "nbconvert_exporter": "python",
   "pygments_lexer": "ipython3",
   "version": "3.11.9"
  }
 },
 "nbformat": 4,
 "nbformat_minor": 5
}
